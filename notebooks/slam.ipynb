{
 "cells": [
  {
   "metadata": {
    "ExecuteTime": {
     "end_time": "2024-05-21T17:34:50.270081Z",
     "start_time": "2024-05-21T17:34:49.958704Z"
    }
   },
   "cell_type": "code",
   "source": [
    "import numpy as np\n",
    "import matplotlib.pyplot as plt\n",
    "from slam.scan import Scan\n",
    "%load_ext line_profiler"
   ],
   "id": "bea5d188-35c4-4793-b453-54b114f33e13",
   "outputs": [],
   "execution_count": 1
  },
  {
   "cell_type": "code",
   "id": "c863bdc60c1c2b84",
   "metadata": {
    "ExecuteTime": {
     "end_time": "2024-05-21T17:34:50.285935Z",
     "start_time": "2024-05-21T17:34:50.273627Z"
    }
   },
   "source": [
    "# Load from dataset for testing\n",
    "def load_dataset(file_path):\n",
    "    with open(file_path, 'r') as f:\n",
    "        lines = f.readlines()\n",
    "    laser_data = []\n",
    "    odometry_data = []\n",
    "    \n",
    "    for line in lines:\n",
    "        if line.startswith('FLASER'):\n",
    "            line = line.strip().split()\n",
    "            num_laser_values = int(line[1])  # Extracting number of laser values\n",
    "            values = line[2:]  # Extracting laser and odometry values\n",
    "            max_range = 10\n",
    "            scan_data = np.clip([float(value) for value in values[:num_laser_values]], 0, max_range + 1)\n",
    "            scan = Scan(angle_min=-np.pi/2, angle_max=np.pi/2, range_max=max_range, angle_increment=(1 * np.pi) / float(num_laser_values), ranges=scan_data)\n",
    "            laser_data.append(scan)\n",
    "            #laser_data.append(scan_data)\n",
    "            odometry_data.append([float(value) for value in values[num_laser_values:num_laser_values+3]])\n",
    "    \n",
    "    return np.array(laser_data), np.array(odometry_data)\n",
    "scans, poses = load_dataset('orebro.gfs.log')"
   ],
   "outputs": [],
   "execution_count": 2
  },
  {
   "cell_type": "code",
   "id": "19a10c49-b7bc-49c8-8bff-7e813d7173f1",
   "metadata": {
    "ExecuteTime": {
     "end_time": "2024-05-21T17:34:51.303195Z",
     "start_time": "2024-05-21T17:34:50.286897Z"
    }
   },
   "source": [
    "from slam.fast_slam import FastSLAM\n",
    "slam = FastSLAM()\n",
    "%lprun -f FastSLAM.update slam.update(np.zeros(2), poses[0], scans[0])\n",
    "# slam.update(np.zeros(2), poses[0], scans[0])\n",
    "# Loop time 1.6"
   ],
   "outputs": [
    {
     "name": "stdout",
     "output_type": "stream",
     "text": [
      "(251.27928, 250.08173649999998) (201, 200) (301, 300) (100, 100)\n",
      "(251.27928, 250.08173649999998) (201, 200) (301, 300) (100, 100)\n",
      "(251.27928, 250.08173649999998) (201, 200) (301, 300) (100, 100)\n",
      "(251.27928, 250.08173649999998) (201, 200) (301, 300) (100, 100)\n",
      "(251.27928, 250.08173649999998) (201, 200) (301, 300) (100, 100)\n",
      "(251.27928, 250.08173649999998) (201, 200) (301, 300) (100, 100)\n",
      "(251.27928, 250.08173649999998) (201, 200) (301, 300) (100, 100)\n",
      "(251.27928, 250.08173649999998) (201, 200) (301, 300) (100, 100)\n",
      "(251.27928, 250.08173649999998) (201, 200) (301, 300) (100, 100)\n",
      "(251.27928, 250.08173649999998) (201, 200) (301, 300) (100, 100)\n",
      "(251.27928, 250.08173649999998) (201, 200) (301, 300) (100, 100)\n",
      "(251.27928, 250.08173649999998) (201, 200) (301, 300) (100, 100)\n",
      "(251.27928, 250.08173649999998) (201, 200) (301, 300) (100, 100)\n",
      "(251.27928, 250.08173649999998) (201, 200) (301, 300) (100, 100)\n",
      "(251.27928, 250.08173649999998) (201, 200) (301, 300) (100, 100)\n",
      "(251.27928, 250.08173649999998) (201, 200) (301, 300) (100, 100)\n",
      "(251.27928, 250.08173649999998) (201, 200) (301, 300) (100, 100)\n",
      "(251.27928, 250.08173649999998) (201, 200) (301, 300) (100, 100)\n",
      "(251.27928, 250.08173649999998) (201, 200) (301, 300) (100, 100)\n",
      "(251.27928, 250.08173649999998) (201, 200) (301, 300) (100, 100)\n"
     ]
    }
   ],
   "execution_count": 3
  },
  {
   "metadata": {
    "ExecuteTime": {
     "end_time": "2024-05-17T20:46:45.304881Z",
     "start_time": "2024-05-17T20:46:45.302296Z"
    }
   },
   "cell_type": "code",
   "source": "%lprun -f OccupancyGrid.update slam.particles[0].map.update(poses[0], scans[0])",
   "id": "22155fbd5da69c49",
   "outputs": [
    {
     "name": "stderr",
     "output_type": "stream",
     "text": [
      "UsageError: Could not find module OccupancyGrid.update.\n",
      "NameError: name 'OccupancyGrid' is not defined\n"
     ]
    }
   ],
   "execution_count": 4
  },
  {
   "cell_type": "code",
   "id": "13939857-7fae-4e23-8d55-6d97e4bce132",
   "metadata": {
    "ExecuteTime": {
     "end_time": "2024-05-17T20:46:45.305880Z",
     "start_time": "2024-05-17T20:46:45.305820Z"
    }
   },
   "source": [
    "particle = slam.particles[0]\n",
    "%lprun -f LikelihoodField.__init__  LikelihoodField(particle.map)"
   ],
   "outputs": [],
   "execution_count": null
  },
  {
   "cell_type": "code",
   "id": "b0a7bdb9-1ebf-468c-9433-41a947946c3e",
   "metadata": {
    "ExecuteTime": {
     "end_time": "2024-05-17T20:46:45.306773Z",
     "start_time": "2024-05-17T20:46:45.306353Z"
    }
   },
   "source": [
    "test_map = slam.particles[0].map.get_map() > 0.5\n",
    "np.argwhere((np.isreal(test_map)[5:10,5:10]))"
   ],
   "outputs": [],
   "execution_count": null
  },
  {
   "cell_type": "code",
   "id": "3f8dc63d-c443-4ef1-98b5-1e9f5aa09138",
   "metadata": {},
   "source": [
    "test_map = slam.particles[5].map.get_map() == 0.5\n",
    "fig, ax = plt.subplots()\n",
    "im = ax.imshow(test_map, cmap='jet')\n",
    "ax = plt.gca()\n",
    "ax.set_xlim([0, 40])\n",
    "ax.set_ylim([0, 60])\n",
    "fig.colorbar(im)"
   ],
   "outputs": [],
   "execution_count": null
  },
  {
   "cell_type": "code",
   "id": "54318488-d89b-4033-9b68-c09cf554c75b",
   "metadata": {},
   "source": [
    "np.unique(slam.particles[0].map.test_map)"
   ],
   "outputs": [],
   "execution_count": null
  },
  {
   "cell_type": "code",
   "id": "c821acf83e02f7aa",
   "metadata": {},
   "source": [
    "grid = OccupancyGrid()\n",
    "for i in range(100):\n",
    "    grid.update(poses[i] + np.array([5, 5, 0]), scans[i])\n",
    "    plt.imshow(grid.get_map(), cmap='gray')\n",
    "    ax = plt.gca()\n",
    "    ax.set_xlim([0, 300])\n",
    "    ax.set_ylim([0, 100])\n",
    "    plt.savefig('out/%03d.png' % i)"
   ],
   "outputs": [],
   "execution_count": null
  }
 ],
 "metadata": {
  "kernelspec": {
   "display_name": "Python 3 (ipykernel)",
   "language": "python",
   "name": "python3"
  },
  "language_info": {
   "codemirror_mode": {
    "name": "ipython",
    "version": 3
   },
   "file_extension": ".py",
   "mimetype": "text/x-python",
   "name": "python",
   "nbconvert_exporter": "python",
   "pygments_lexer": "ipython3",
   "version": "3.11.4"
  }
 },
 "nbformat": 4,
 "nbformat_minor": 5
}
