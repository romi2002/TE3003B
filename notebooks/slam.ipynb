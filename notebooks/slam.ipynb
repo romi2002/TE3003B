{
 "cells": [
  {
   "metadata": {
    "ExecuteTime": {
     "end_time": "2024-05-17T20:24:16.230711Z",
     "start_time": "2024-05-17T20:24:16.219666Z"
    }
   },
   "cell_type": "code",
   "source": [
    "import numpy as np\n",
    "import matplotlib.pyplot as plt\n",
    "%load_ext line_profiler"
   ],
   "id": "bea5d188-35c4-4793-b453-54b114f33e13",
   "outputs": [
    {
     "name": "stdout",
     "output_type": "stream",
     "text": [
      "The line_profiler extension is already loaded. To reload it, use:\n",
      "  %reload_ext line_profiler\n"
     ]
    }
   ],
   "execution_count": 221
  },
  {
   "cell_type": "code",
   "id": "c863bdc60c1c2b84",
   "metadata": {
    "ExecuteTime": {
     "end_time": "2024-05-17T20:24:16.940971Z",
     "start_time": "2024-05-17T20:24:16.922133Z"
    }
   },
   "source": [
    "# Load from dataset for testing\n",
    "def load_dataset(file_path):\n",
    "    with open(file_path, 'r') as f:\n",
    "        lines = f.readlines()\n",
    "    laser_data = []\n",
    "    odometry_data = []\n",
    "    \n",
    "    for line in lines:\n",
    "        if line.startswith('FLASER'):\n",
    "            line = line.strip().split()\n",
    "            num_laser_values = int(line[1])  # Extracting number of laser values\n",
    "            values = line[2:]  # Extracting laser and odometry values\n",
    "            max_range = 10\n",
    "            scan_data = np.clip([float(value) for value in values[:num_laser_values]], 0, max_range + 1)\n",
    "            scan = Scan(angle_min=-np.pi/2, angle_max=np.pi/2, range_max=max_range, angle_increment=(1 * np.pi) / float(num_laser_values), ranges=scan_data)\n",
    "            laser_data.append(scan)\n",
    "            #laser_data.append(scan_data)\n",
    "            odometry_data.append([float(value) for value in values[num_laser_values:num_laser_values+3]])\n",
    "    \n",
    "    return np.array(laser_data), np.array(odometry_data)\n",
    "scans, poses = load_dataset('orebro.gfs.log')"
   ],
   "outputs": [],
   "execution_count": 222
  },
  {
   "cell_type": "code",
   "id": "19a10c49-b7bc-49c8-8bff-7e813d7173f1",
   "metadata": {
    "ExecuteTime": {
     "end_time": "2024-05-17T20:24:18.090421Z",
     "start_time": "2024-05-17T20:24:17.962395Z"
    }
   },
   "source": [
    "from slam.fast_slam import FastSLAM\n",
    "slam = FastSLAM()\n",
    "%lprun -f FastSLAM.update slam.update(np.zeros(2), poses[0], scans[0])\n",
    "# Loop time 1.6"
   ],
   "outputs": [
    {
     "name": "stdout",
     "output_type": "stream",
     "text": [
      "250000\n",
      "(1.2792799999999998, 0.08173649999999999) (0, 0) (11, 10) (11, 10)\n",
      "2.2630908991235827 -2.8019160056086756 2 -2 (0, 0) (11, 10)\n"
     ]
    },
    {
     "ename": "AssertionError",
     "evalue": "Y is outside of search range",
     "output_type": "error",
     "traceback": [
      "\u001B[0;31m---------------------------------------------------------------------------\u001B[0m",
      "\u001B[0;31mAssertionError\u001B[0m                            Traceback (most recent call last)",
      "Cell \u001B[0;32mIn[223], line 3\u001B[0m\n\u001B[1;32m      1\u001B[0m \u001B[38;5;28;01mfrom\u001B[39;00m \u001B[38;5;21;01mslam\u001B[39;00m\u001B[38;5;21;01m.\u001B[39;00m\u001B[38;5;21;01mfast_slam\u001B[39;00m \u001B[38;5;28;01mimport\u001B[39;00m FastSLAM\n\u001B[1;32m      2\u001B[0m slam \u001B[38;5;241m=\u001B[39m FastSLAM()\n\u001B[0;32m----> 3\u001B[0m \u001B[43mget_ipython\u001B[49m\u001B[43m(\u001B[49m\u001B[43m)\u001B[49m\u001B[38;5;241;43m.\u001B[39;49m\u001B[43mrun_line_magic\u001B[49m\u001B[43m(\u001B[49m\u001B[38;5;124;43m'\u001B[39;49m\u001B[38;5;124;43mlprun\u001B[39;49m\u001B[38;5;124;43m'\u001B[39;49m\u001B[43m,\u001B[49m\u001B[43m \u001B[49m\u001B[38;5;124;43m'\u001B[39;49m\u001B[38;5;124;43m-f FastSLAM.update slam.update(np.zeros(2), poses[0], scans[0])\u001B[39;49m\u001B[38;5;124;43m'\u001B[39;49m\u001B[43m)\u001B[49m\n\u001B[1;32m      4\u001B[0m \u001B[38;5;66;03m# Loop time 1.6\u001B[39;00m\n",
      "File \u001B[0;32m~/mambaforge/envs/data_processing/lib/python3.11/site-packages/IPython/core/interactiveshell.py:2417\u001B[0m, in \u001B[0;36mInteractiveShell.run_line_magic\u001B[0;34m(self, magic_name, line, _stack_depth)\u001B[0m\n\u001B[1;32m   2415\u001B[0m     kwargs[\u001B[38;5;124m'\u001B[39m\u001B[38;5;124mlocal_ns\u001B[39m\u001B[38;5;124m'\u001B[39m] \u001B[38;5;241m=\u001B[39m \u001B[38;5;28mself\u001B[39m\u001B[38;5;241m.\u001B[39mget_local_scope(stack_depth)\n\u001B[1;32m   2416\u001B[0m \u001B[38;5;28;01mwith\u001B[39;00m \u001B[38;5;28mself\u001B[39m\u001B[38;5;241m.\u001B[39mbuiltin_trap:\n\u001B[0;32m-> 2417\u001B[0m     result \u001B[38;5;241m=\u001B[39m \u001B[43mfn\u001B[49m\u001B[43m(\u001B[49m\u001B[38;5;241;43m*\u001B[39;49m\u001B[43margs\u001B[49m\u001B[43m,\u001B[49m\u001B[43m \u001B[49m\u001B[38;5;241;43m*\u001B[39;49m\u001B[38;5;241;43m*\u001B[39;49m\u001B[43mkwargs\u001B[49m\u001B[43m)\u001B[49m\n\u001B[1;32m   2419\u001B[0m \u001B[38;5;66;03m# The code below prevents the output from being displayed\u001B[39;00m\n\u001B[1;32m   2420\u001B[0m \u001B[38;5;66;03m# when using magics with decodator @output_can_be_silenced\u001B[39;00m\n\u001B[1;32m   2421\u001B[0m \u001B[38;5;66;03m# when the last Python token in the expression is a ';'.\u001B[39;00m\n\u001B[1;32m   2422\u001B[0m \u001B[38;5;28;01mif\u001B[39;00m \u001B[38;5;28mgetattr\u001B[39m(fn, magic\u001B[38;5;241m.\u001B[39mMAGIC_OUTPUT_CAN_BE_SILENCED, \u001B[38;5;28;01mFalse\u001B[39;00m):\n",
      "File \u001B[0;32m~/mambaforge/envs/data_processing/lib/python3.11/site-packages/line_profiler/ipython_extension.py:130\u001B[0m, in \u001B[0;36mLineProfilerMagics.lprun\u001B[0;34m(self, parameter_s)\u001B[0m\n\u001B[1;32m    128\u001B[0m \u001B[38;5;28;01mtry\u001B[39;00m:\n\u001B[1;32m    129\u001B[0m     \u001B[38;5;28;01mtry\u001B[39;00m:\n\u001B[0;32m--> 130\u001B[0m         \u001B[43mprofile\u001B[49m\u001B[38;5;241;43m.\u001B[39;49m\u001B[43mrunctx\u001B[49m\u001B[43m(\u001B[49m\u001B[43marg_str\u001B[49m\u001B[43m,\u001B[49m\u001B[43m \u001B[49m\u001B[43mglobal_ns\u001B[49m\u001B[43m,\u001B[49m\u001B[43m \u001B[49m\u001B[43mlocal_ns\u001B[49m\u001B[43m)\u001B[49m\n\u001B[1;32m    131\u001B[0m         message \u001B[38;5;241m=\u001B[39m \u001B[38;5;124m\"\u001B[39m\u001B[38;5;124m\"\u001B[39m\n\u001B[1;32m    132\u001B[0m     \u001B[38;5;28;01mexcept\u001B[39;00m \u001B[38;5;167;01mSystemExit\u001B[39;00m:\n",
      "File \u001B[0;32m~/mambaforge/envs/data_processing/lib/python3.11/site-packages/line_profiler/line_profiler.py:185\u001B[0m, in \u001B[0;36mLineProfiler.runctx\u001B[0;34m(self, cmd, globals, locals)\u001B[0m\n\u001B[1;32m    183\u001B[0m \u001B[38;5;28mself\u001B[39m\u001B[38;5;241m.\u001B[39menable_by_count()\n\u001B[1;32m    184\u001B[0m \u001B[38;5;28;01mtry\u001B[39;00m:\n\u001B[0;32m--> 185\u001B[0m     \u001B[43mexec\u001B[49m\u001B[43m(\u001B[49m\u001B[43mcmd\u001B[49m\u001B[43m,\u001B[49m\u001B[43m \u001B[49m\u001B[38;5;28;43mglobals\u001B[39;49m\u001B[43m,\u001B[49m\u001B[43m \u001B[49m\u001B[38;5;28;43mlocals\u001B[39;49m\u001B[43m)\u001B[49m\n\u001B[1;32m    186\u001B[0m \u001B[38;5;28;01mfinally\u001B[39;00m:\n\u001B[1;32m    187\u001B[0m     \u001B[38;5;28mself\u001B[39m\u001B[38;5;241m.\u001B[39mdisable_by_count()\n",
      "File \u001B[0;32m<string>:1\u001B[0m\n",
      "File \u001B[0;32m~/Documents/TEC/bloque_ws/notebooks/slam/fast_slam.py:94\u001B[0m, in \u001B[0;36mFastSLAM.update\u001B[0;34m(self, u, pose, scan)\u001B[0m\n\u001B[1;32m     92\u001B[0m search_cell \u001B[38;5;241m=\u001B[39m particle\u001B[38;5;241m.\u001B[39mmap\u001B[38;5;241m.\u001B[39mcoordinate_to_cell(pose[\u001B[38;5;241m0\u001B[39m], pose[\u001B[38;5;241m1\u001B[39m])\n\u001B[1;32m     93\u001B[0m particle\u001B[38;5;241m.\u001B[39mlike_field \u001B[38;5;241m=\u001B[39m LikelihoodField(particle\u001B[38;5;241m.\u001B[39mmap, search_cell, max_range\u001B[38;5;241m=\u001B[39mscan\u001B[38;5;241m.\u001B[39mrange_max)\n\u001B[0;32m---> 94\u001B[0m particle\u001B[38;5;241m.\u001B[39mweight \u001B[38;5;241m=\u001B[39m \u001B[38;5;28;43mself\u001B[39;49m\u001B[38;5;241;43m.\u001B[39;49m\u001B[43mmeasurement_model_map\u001B[49m\u001B[43m(\u001B[49m\u001B[43mscan\u001B[49m\u001B[43m,\u001B[49m\u001B[43m \u001B[49m\u001B[43mparticle\u001B[49m\u001B[38;5;241;43m.\u001B[39;49m\u001B[43mpose\u001B[49m\u001B[43m,\u001B[49m\u001B[43m \u001B[49m\u001B[43mparticle\u001B[49m\u001B[38;5;241;43m.\u001B[39;49m\u001B[43mlike_field\u001B[49m\u001B[43m)\u001B[49m\n\u001B[1;32m     96\u001B[0m \u001B[38;5;66;03m# updated_occupancy_grid\u001B[39;00m\n\u001B[1;32m     97\u001B[0m particle\u001B[38;5;241m.\u001B[39mmap\u001B[38;5;241m.\u001B[39mupdate(particle\u001B[38;5;241m.\u001B[39mpose, scan)\n",
      "File \u001B[0;32m~/Documents/TEC/bloque_ws/notebooks/slam/fast_slam.py:72\u001B[0m, in \u001B[0;36mFastSLAM.measurement_model_map\u001B[0;34m(self, scan, pose, like_field)\u001B[0m\n\u001B[1;32m     69\u001B[0m y_z \u001B[38;5;241m=\u001B[39m y \u001B[38;5;241m+\u001B[39m \u001B[38;5;28mrange\u001B[39m \u001B[38;5;241m*\u001B[39m np\u001B[38;5;241m.\u001B[39msin(angle)\n\u001B[1;32m     71\u001B[0m \u001B[38;5;66;03m# Now get the distance to the closest obstacle\u001B[39;00m\n\u001B[0;32m---> 72\u001B[0m distance \u001B[38;5;241m=\u001B[39m \u001B[43mlike_field\u001B[49m\u001B[38;5;241;43m.\u001B[39;49m\u001B[43mclosest_obstacle_to_pose\u001B[49m\u001B[43m(\u001B[49m\u001B[43mx_z\u001B[49m\u001B[43m,\u001B[49m\u001B[43m \u001B[49m\u001B[43my_z\u001B[49m\u001B[43m)\u001B[49m\n\u001B[1;32m     74\u001B[0m \u001B[38;5;66;03m# Update probability, this is using the simplified model, without taking into account z_random and z_max\u001B[39;00m\n\u001B[1;32m     75\u001B[0m \u001B[38;5;66;03m# TODO, Maybe implement this?\u001B[39;00m\n\u001B[1;32m     76\u001B[0m q \u001B[38;5;241m=\u001B[39m q \u001B[38;5;241m*\u001B[39m FastSLAM\u001B[38;5;241m.\u001B[39mprob_centered_gaussian(distance, \u001B[38;5;241m0.01\u001B[39m)\n",
      "File \u001B[0;32m~/Documents/TEC/bloque_ws/notebooks/slam/likelihood_field.py:35\u001B[0m, in \u001B[0;36mLikelihoodField.closest_obstacle_to_pose\u001B[0;34m(self, x, y)\u001B[0m\n\u001B[1;32m     33\u001B[0m \u001B[38;5;28mprint\u001B[39m(x, y, search_x, search_y, \u001B[38;5;28mself\u001B[39m\u001B[38;5;241m.\u001B[39mstart_coords, \u001B[38;5;28mself\u001B[39m\u001B[38;5;241m.\u001B[39mend_coords)\n\u001B[1;32m     34\u001B[0m \u001B[38;5;28;01massert\u001B[39;00m \u001B[38;5;28mself\u001B[39m\u001B[38;5;241m.\u001B[39mstart_coords[\u001B[38;5;241m0\u001B[39m] \u001B[38;5;241m<\u001B[39m x \u001B[38;5;241m<\u001B[39m\u001B[38;5;241m=\u001B[39m \u001B[38;5;28mself\u001B[39m\u001B[38;5;241m.\u001B[39mend_coords[\u001B[38;5;241m0\u001B[39m], \u001B[38;5;124m\"\u001B[39m\u001B[38;5;124mX is outside of search range\u001B[39m\u001B[38;5;124m\"\u001B[39m\n\u001B[0;32m---> 35\u001B[0m \u001B[38;5;28;01massert\u001B[39;00m \u001B[38;5;28mself\u001B[39m\u001B[38;5;241m.\u001B[39mstart_coords[\u001B[38;5;241m1\u001B[39m] \u001B[38;5;241m<\u001B[39m y \u001B[38;5;241m<\u001B[39m\u001B[38;5;241m=\u001B[39m \u001B[38;5;28mself\u001B[39m\u001B[38;5;241m.\u001B[39mend_coords[\u001B[38;5;241m1\u001B[39m], \u001B[38;5;124m\"\u001B[39m\u001B[38;5;124mY is outside of search range\u001B[39m\u001B[38;5;124m\"\u001B[39m\n\u001B[1;32m     36\u001B[0m \u001B[38;5;28;01mreturn\u001B[39;00m \u001B[38;5;28mself\u001B[39m\u001B[38;5;241m.\u001B[39mclosest_obstacle[search_x, search_y]\n",
      "\u001B[0;31mAssertionError\u001B[0m: Y is outside of search range"
     ]
    }
   ],
   "execution_count": 223
  },
  {
   "metadata": {},
   "cell_type": "code",
   "source": "%lprun -f OccupancyGrid.update slam.particles[0].map.update(poses[0], scans[0])",
   "id": "22155fbd5da69c49",
   "outputs": [],
   "execution_count": null
  },
  {
   "cell_type": "code",
   "id": "13939857-7fae-4e23-8d55-6d97e4bce132",
   "metadata": {},
   "source": [
    "particle = slam.particles[0]\n",
    "%lprun -f LikelihoodField.__init__  LikelihoodField(particle.map)"
   ],
   "outputs": [],
   "execution_count": null
  },
  {
   "cell_type": "code",
   "id": "b0a7bdb9-1ebf-468c-9433-41a947946c3e",
   "metadata": {},
   "source": [
    "test_map = slam.particles[0].map.get_map() > 0.5\n",
    "np.argwhere((np.isreal(test_map)[5:10,5:10]))"
   ],
   "outputs": [],
   "execution_count": null
  },
  {
   "cell_type": "code",
   "id": "3f8dc63d-c443-4ef1-98b5-1e9f5aa09138",
   "metadata": {},
   "source": [
    "test_map = slam.particles[5].map.get_map() == 0.5\n",
    "fig, ax = plt.subplots()\n",
    "im = ax.imshow(test_map, cmap='jet')\n",
    "ax = plt.gca()\n",
    "ax.set_xlim([0, 40])\n",
    "ax.set_ylim([0, 60])\n",
    "fig.colorbar(im)"
   ],
   "outputs": [],
   "execution_count": null
  },
  {
   "cell_type": "code",
   "id": "54318488-d89b-4033-9b68-c09cf554c75b",
   "metadata": {},
   "source": [
    "np.unique(slam.particles[0].map.test_map)"
   ],
   "outputs": [],
   "execution_count": null
  },
  {
   "cell_type": "code",
   "id": "c821acf83e02f7aa",
   "metadata": {},
   "source": [
    "grid = OccupancyGrid()\n",
    "for i in range(100):\n",
    "    grid.update(poses[i] + np.array([5, 5, 0]), scans[i])\n",
    "    plt.imshow(grid.get_map(), cmap='gray')\n",
    "    ax = plt.gca()\n",
    "    ax.set_xlim([0, 300])\n",
    "    ax.set_ylim([0, 100])\n",
    "    plt.savefig('out/%03d.png' % i)"
   ],
   "outputs": [],
   "execution_count": null
  }
 ],
 "metadata": {
  "kernelspec": {
   "display_name": "Python 3 (ipykernel)",
   "language": "python",
   "name": "python3"
  },
  "language_info": {
   "codemirror_mode": {
    "name": "ipython",
    "version": 3
   },
   "file_extension": ".py",
   "mimetype": "text/x-python",
   "name": "python",
   "nbconvert_exporter": "python",
   "pygments_lexer": "ipython3",
   "version": "3.11.4"
  }
 },
 "nbformat": 4,
 "nbformat_minor": 5
}
